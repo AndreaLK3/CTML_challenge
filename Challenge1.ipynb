{
 "cells": [
  {
   "cell_type": "code",
   "execution_count": 1,
   "id": "26e2e295",
   "metadata": {},
   "outputs": [],
   "source": [
    "import pandas as pd\n",
    "import matplotlib.pyplot as plt\n",
    "import os\n",
    "from math import sqrt\n",
    "from sklearn import svm\n",
    "\n",
    "\n",
    "# 7. Attribute information\n",
    "\n",
    "# 1) ID number\n",
    "# 2) Diagnosis (M = malignant, B = benign)\n",
    "# 3-32)\n",
    "\n",
    "# Ten real-valued features are computed for each cell nucleus:\n",
    "\n",
    "#\ta) radius (mean of distances from center to points on the perimeter)\n",
    "#\tb) texture (standard deviation of gray-scale values)\n",
    "#\tc) perimeter\n",
    "#\td) area\n",
    "#\te) smoothness (local variation in radius lengths)\n",
    "#\tf) compactness (perimeter^2 / area - 1.0)\n",
    "#\tg) concavity (severity of concave portions of the contour)\n",
    "#\th) concave points (number of concave portions of the contour)\n",
    "#\ti) symmetry \n",
    "#\tj) fractal dimension (\"coastline approximation\" - 1)\n",
    "\n",
    "# The mean, standard error, and \"worst\" or largest (mean of the three\n",
    "# largest values) of these features were computed for each image,\n",
    "# resulting in 30 features.  For instance, field 3 is Mean Radius, field\n",
    "# 13 is Radius SE, field 23 is Worst Radius.\n",
    "\n",
    "dataset_fpath = \"wdbc.data\"\n",
    "\n",
    "element_names = [\"mean\", \"standard_err\", \"largest\"]\n",
    "\n",
    "feature_names = [\"radius\", \"texture\", \"perimeter\", \"area\", \"smoothness\", \"compactness\", \"concavity\", \n",
    "                 \"concave_points\", \"symmetry\", \"fractal_dimension\"]\n",
    "column_names = [\"ID\",  \"diagnosis\"] + [feat + \" \" + el for el in element_names for feat in feature_names]"
   ]
  },
  {
   "cell_type": "code",
   "execution_count": 2,
   "id": "938a85b3",
   "metadata": {},
   "outputs": [
    {
     "name": "stdout",
     "output_type": "stream",
     "text": [
      "['ID', 'diagnosis', 'radius mean', 'texture mean', 'perimeter mean', 'area mean', 'smoothness mean', 'compactness mean', 'concavity mean', 'concave_points mean', 'symmetry mean', 'fractal_dimension mean', 'radius standard_err', 'texture standard_err', 'perimeter standard_err', 'area standard_err', 'smoothness standard_err', 'compactness standard_err', 'concavity standard_err', 'concave_points standard_err', 'symmetry standard_err', 'fractal_dimension standard_err', 'radius largest', 'texture largest', 'perimeter largest', 'area largest', 'smoothness largest', 'compactness largest', 'concavity largest', 'concave_points largest', 'symmetry largest', 'fractal_dimension largest']\n"
     ]
    }
   ],
   "source": [
    "print(column_names)"
   ]
  },
  {
   "cell_type": "code",
   "execution_count": 3,
   "id": "66b205f0",
   "metadata": {},
   "outputs": [
    {
     "name": "stdout",
     "output_type": "stream",
     "text": [
      "91.97\n"
     ]
    }
   ],
   "source": [
    "df = pd.read_csv(dataset_fpath, names=column_names)\n",
    "\n",
    "# a. What are the mean, median and standard deviation of the “perimeter” feature?\n",
    "\n",
    "# Computing the mean of the \"perimeter mean\" column:\n",
    "perimeter_mean_entries = df[\"perimeter mean\"].tolist()\n",
    "perimeter_mean_overall = sum(perimeter_mean_entries) / len(perimeter_mean_entries)\n",
    "\n",
    "print(round(perimeter_mean_overall,2))"
   ]
  },
  {
   "cell_type": "code",
   "execution_count": 4,
   "id": "05e16d96",
   "metadata": {},
   "outputs": [
    {
     "name": "stdout",
     "output_type": "stream",
     "text": [
      "86.24\n"
     ]
    }
   ],
   "source": [
    "# median\n",
    "perimeter_mean_entries_sorted = sorted(perimeter_mean_entries)\n",
    "midpoint = len(perimeter_mean_entries) // 2\n",
    "perimeter_median = perimeter_mean_entries_sorted[midpoint]\n",
    "\n",
    "print(round(perimeter_median, 2))"
   ]
  },
  {
   "cell_type": "code",
   "execution_count": 5,
   "id": "92a468b7",
   "metadata": {},
   "outputs": [
    {
     "name": "stdout",
     "output_type": "stream",
     "text": [
      "24.28\n"
     ]
    }
   ],
   "source": [
    "# standard deviation\n",
    "\n",
    "squared_diffs = [(x_i - perimeter_mean_overall)**2 for x_i in perimeter_mean_entries]\n",
    "num_samples = len(squared_diffs)\n",
    "perimeter_std_dev = sqrt(sum(squared_diffs) / num_samples)\n",
    "print(round(perimeter_std_dev,2))"
   ]
  },
  {
   "cell_type": "code",
   "execution_count": 6,
   "id": "7b02766d",
   "metadata": {},
   "outputs": [
    {
     "data": {
      "image/png": "[encoded data removed]",
      "text/plain": [
       "<Figure size 432x288 with 1 Axes>"
      ]
     },
     "metadata": {
      "needs_background": "light"
     },
     "output_type": "display_data"
    },
    {
     "name": "stdout",
     "output_type": "stream",
     "text": [
      "Considering the visualization, we state that the radius feature does not follow a normal distribution because it is not symmetric.\n",
      "Fisher-Pearson skewness coefficient==0.94, which is !=0\n",
      "\n",
      "We hypothesize that an exponential distribution would be closer.\n"
     ]
    }
   ],
   "source": [
    "# b. Is the first feature in this data set (the “radius”) normally distributed? Quantify your answer. \n",
    "# If not, what might be a more appropriate statistical distribution for modelling purposes?\n",
    "\n",
    "radius_mean_entries = df[\"radius mean\"].tolist()\n",
    "radius_sample_mean = round(sum(radius_mean_entries) / len(radius_mean_entries),2)\n",
    "radius_squared_diffs = [(x_i - radius_sample_mean)**2 for x_i in radius_mean_entries]\n",
    "radius_std_dev = sqrt(sum(radius_squared_diffs) / len(radius_squared_diffs))\n",
    "\n",
    "# plot bins\n",
    "n,bins,patches = plt.hist(radius_mean_entries, bins=20)\n",
    "plt.show()\n",
    "\n",
    "print(\"Considering the visualization, we state that the radius feature does not follow a normal distribution because it is not symmetric.\")\n",
    "skew_coefficient = (sum([(x_i - radius_sample_mean)**3 for x_i in radius_mean_entries]) \\\n",
    "                    / len(radius_mean_entries))                                         \\\n",
    "                    /(radius_std_dev**3)\n",
    "print(\"Fisher-Pearson skewness coefficient==\" + str(round(skew_coefficient,2)) + \", which is !=0\")\n",
    "\n",
    "print(\"\\nWe hypothesize that an exponential distribution would be closer.\")"
   ]
  },
  {
   "cell_type": "code",
   "execution_count": 7,
   "id": "a8174749",
   "metadata": {},
   "outputs": [
    {
     "name": "stderr",
     "output_type": "stream",
     "text": [
      "C:\\Users\\Andre\\miniconda3\\lib\\site-packages\\pandas\\core\\frame.py:4901: SettingWithCopyWarning: \n",
      "A value is trying to be set on a copy of a slice from a DataFrame\n",
      "\n",
      "See the caveats in the documentation: https://pandas.pydata.org/pandas-docs/stable/user_guide/indexing.html#returning-a-view-versus-a-copy\n",
      "  return super().drop(\n"
     ]
    }
   ],
   "source": [
    "# c. Train a classifier to predict the diagnosis of malignant or benign. Compare the results of two classifiers \n",
    "# (e.g. SVM, logistic regression and/or decision tree) and make some suggestions on how the classifier’s performance could be further improved.\n",
    "\n",
    "# Preliminary step 1: normalize/standardize the data columns\n",
    "# standardization to \\mu=0 and \\sigma=1\n",
    "df_standardized = df.copy()\n",
    "for feature_col in column_names[2:]:  # skip \"ID\" and \"Diagnosis\"\n",
    "    col_ls = df[feature_col].tolist()\n",
    "    col_avg = sum(col_ls) / len(col_ls)\n",
    "    col_squared_diffs = [(x_i - col_avg)**2 for x_i in col_ls]\n",
    "    col_std_dev = sqrt(sum(col_squared_diffs) / len(col_squared_diffs))\n",
    "    df_standardized[feature_col] = df_standardized[feature_col] - col_avg)/col_std_dev\n",
    "    \n",
    "df_standardized['diagnosis'] = df_standardized['diagnosis'].map(lambda label: 1 if label==\"M\" else 0)\n",
    "\n",
    "# Preliminary step 2: split into training and test sets\n",
    "n = df_standardized.index.stop\n",
    "training_df = df_standardized.iloc[:int(9/10*n),]\n",
    "training_labels_df = training_df[\"diagnosis\"]\n",
    "training_df.drop(columns=[\"ID\", \"diagnosis\"], inplace=True)\n",
    "\n",
    "test_df = df_standardized.iloc[int(9/10*n):n,]\n",
    "\n"
   ]
  },
  {
   "cell_type": "code",
   "execution_count": 8,
   "id": "1105d118",
   "metadata": {},
   "outputs": [
    {
     "name": "stdout",
     "output_type": "stream",
     "text": [
      "[[ 1.09706398 -2.07333501  1.26993369 ...  2.29607613  2.75062224\n",
      "   1.93701461]\n",
      " [ 1.82982061 -0.35363241  1.68595471 ...  1.0870843  -0.24388967\n",
      "   0.28118999]\n",
      " [ 1.57988811  0.45618695  1.56650313 ...  1.95500035  1.152255\n",
      "   0.20139121]\n",
      " ...\n",
      " [ 0.37850807  1.08449508  0.48731988 ...  1.5484502   0.18158663\n",
      "   1.26094164]\n",
      " [-0.67802474 -1.07036908 -0.64499872 ... -0.13713413 -0.48008564\n",
      "   0.82260252]\n",
      " [ 0.19389884 -1.06804202  0.11084145 ... -0.533787   -0.9168864\n",
      "  -1.24828658]]\n",
      "[1 1 1 1 1 1 1 1 1 1 1 1 1 1 1 1 1 1 1 0 0 0 1 1 1 1 1 1 1 1 1 1 1 1 1 1 1\n",
      " 0 1 1 1 1 1 1 1 1 0 1 0 0 0 0 0 1 1 0 1 1 0 0 0 0 1 0 1 1 0 0 0 0 1 0 1 1\n",
      " 0 1 0 1 1 0 0 0 1 1 0 1 1 1 0 0 0 1 0 0 1 1 0 0 0 1 1 0 0 0 0 1 0 0 1 0 0\n",
      " 0 0 0 0 0 0 1 1 1 0 1 1 0 0 0 1 1 0 1 0 1 1 0 1 1 0 0 1 0 0 1 0 0 0 0 1 0\n",
      " 0 0 0 0 0 0 0 0 1 0 0 0 0 1 1 0 1 0 0 1 1 0 0 1 1 0 0 0 0 1 0 0 1 1 1 0 1\n",
      " 0 1 0 0 0 1 0 0 1 1 0 1 1 1 1 0 1 1 1 0 1 0 1 0 0 1 0 1 1 1 1 0 0 1 1 0 0\n",
      " 0 1 0 0 0 0 0 1 1 0 0 1 0 0 1 1 0 1 0 0 0 0 1 0 0 0 0 0 1 0 1 1 1 1 1 1 1\n",
      " 1 1 1 1 1 1 1 0 0 0 0 0 0 1 0 1 0 0 1 0 0 1 0 1 1 0 0 0 0 0 0 0 0 0 0 0 0\n",
      " 0 1 0 0 1 0 1 0 0 0 0 0 0 0 0 0 0 0 0 0 0 1 0 0 0 1 0 1 0 0 0 0 1 1 1 0 0\n",
      " 0 0 1 0 1 0 1 0 0 0 1 0 0 0 0 0 0 0 1 1 1 0 0 0 0 0 0 0 0 0 0 0 1 1 0 1 1\n",
      " 1 0 1 1 0 0 0 0 0 1 0 0 0 0 0 1 0 0 0 1 0 0 1 1 0 0 0 0 0 0 1 0 0 0 0 0 0\n",
      " 0 1 0 0 0 0 0 1 0 0 1 0 0 0 0 0 0 0 0 0 0 0 0 1 0 1 1 0 1 0 0 0 0 0 1 0 0\n",
      " 1 0 1 0 0 1 0 1 0 0 0 0 0 0 0 0 1 1 0 0 0 0 0 0 1 0 0 0 0 0 0 0 0 0 0 1 0\n",
      " 0 0 0 0 0 0 1 0 1 0 0 1 0 0 0 0 0 1 1 0 1 0 1 0 0 0 0 0 1 0 0]\n"
     ]
    },
    {
     "ename": "NameError",
     "evalue": "name 'SVC' is not defined",
     "output_type": "error",
     "traceback": [
      "\u001b[1;31m---------------------------------------------------------------------------\u001b[0m",
      "\u001b[1;31mNameError\u001b[0m                                 Traceback (most recent call last)",
      "\u001b[1;32m~\\AppData\\Local\\Temp/ipykernel_26360/3287919217.py\u001b[0m in \u001b[0;36m<module>\u001b[1;34m\u001b[0m\n\u001b[0;32m      7\u001b[0m \u001b[1;33m\u001b[0m\u001b[0m\n\u001b[0;32m      8\u001b[0m \u001b[0msvc\u001b[0m \u001b[1;33m=\u001b[0m \u001b[0msvm\u001b[0m\u001b[1;33m.\u001b[0m\u001b[0mSVC\u001b[0m\u001b[1;33m(\u001b[0m\u001b[0mcache_size\u001b[0m\u001b[1;33m=\u001b[0m\u001b[1;36m500\u001b[0m\u001b[1;33m)\u001b[0m\u001b[1;33m\u001b[0m\u001b[1;33m\u001b[0m\u001b[0m\n\u001b[1;32m----> 9\u001b[1;33m \u001b[0mSVC\u001b[0m\u001b[1;33m(\u001b[0m\u001b[1;33m)\u001b[0m\u001b[1;33m.\u001b[0m\u001b[0mfit\u001b[0m\u001b[1;33m(\u001b[0m\u001b[0mtraining_x\u001b[0m\u001b[1;33m,\u001b[0m \u001b[0mtraining_y\u001b[0m\u001b[1;33m)\u001b[0m\u001b[1;33m\u001b[0m\u001b[1;33m\u001b[0m\u001b[0m\n\u001b[0m",
      "\u001b[1;31mNameError\u001b[0m: name 'SVC' is not defined"
     ]
    }
   ],
   "source": [
    "# transform training set columns into numpy arrays for the SVC\n",
    "training_x = training_df.to_numpy()\n",
    "# and the labels too\n",
    "training_y = training_labels_df.to_numpy()\n",
    "print(training_x)\n",
    "print(training_y)\n",
    "\n",
    "svc = svm.SVC(cache_size=500)\n",
    "SVC().fit(training_x, training_y)"
   ]
  },
  {
   "cell_type": "code",
   "execution_count": null,
   "id": "139e7319",
   "metadata": {},
   "outputs": [],
   "source": []
  },
  {
   "cell_type": "code",
   "execution_count": null,
   "id": "3c12957d",
   "metadata": {},
   "outputs": [],
   "source": []
  }
 ],
 "metadata": {
  "kernelspec": {
   "display_name": "Python 3 (ipykernel)",
   "language": "python",
   "name": "python3"
  },
  "language_info": {
   "codemirror_mode": {
    "name": "ipython",
    "version": 3
   },
   "file_extension": ".py",
   "mimetype": "text/x-python",
   "name": "python",
   "nbconvert_exporter": "python",
   "pygments_lexer": "ipython3",
   "version": "3.9.1"
  }
 },
 "nbformat": 4,
 "nbformat_minor": 5
}
