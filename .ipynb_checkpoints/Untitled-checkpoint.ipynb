{
 "cells": [
  {
   "cell_type": "code",
   "execution_count": null,
   "id": "dc22eb26",
   "metadata": {},
   "outputs": [],
   "source": [
    "import pandas as pd\n",
    "\n",
    "# 7. Attribute information\n",
    "\n",
    "# 1) ID number\n",
    "# 2) Diagnosis (M = malignant, B = benign)\n",
    "# 3-32)\n",
    "\n",
    "# Ten real-valued features are computed for each cell nucleus:\n",
    "\n",
    "#\ta) radius (mean of distances from center to points on the perimeter)\n",
    "#\tb) texture (standard deviation of gray-scale values)\n",
    "#\tc) perimeter\n",
    "#\td) area\n",
    "#\te) smoothness (local variation in radius lengths)\n",
    "#\tf) compactness (perimeter^2 / area - 1.0)\n",
    "#\tg) concavity (severity of concave portions of the contour)\n",
    "#\th) concave points (number of concave portions of the contour)\n",
    "#\ti) symmetry \n",
    "#\tj) fractal dimension (\"coastline approximation\" - 1)\n",
    "\n",
    "# Several of the papers listed above contain detailed descriptions of\n",
    "# how these features are computed. \n",
    "\n",
    "# The mean, standard error, and \"worst\" or largest (mean of the three\n",
    "# largest values) of these features were computed for each image,\n",
    "# resulting in 30 features.  For instance, field 3 is Mean Radius, field\n",
    "# 13 is Radius SE, field 23 is Worst Radius.\n",
    "\n",
    "element_names = [\"mean\", \"standard_err\", \"largest\"]\n",
    "\n",
    "feature_names = [\"radius\", \"texture\", \"perimeter\", \"area\", \"smoothness\", \"compactness\", \"concavity\", \n",
    "                 \"concave_points\", \"symmetry\", \"fractal_dimension\"]\n",
    "column_names = [el+\" \" + feat for el in element_names for feat in feature_names]\n",
    "\n"
   ]
  }
 ],
 "metadata": {
  "kernelspec": {
   "display_name": "Python 3 (ipykernel)",
   "language": "python",
   "name": "python3"
  },
  "language_info": {
   "codemirror_mode": {
    "name": "ipython",
    "version": 3
   },
   "file_extension": ".py",
   "mimetype": "text/x-python",
   "name": "python",
   "nbconvert_exporter": "python",
   "pygments_lexer": "ipython3",
   "version": "3.9.1"
  }
 },
 "nbformat": 4,
 "nbformat_minor": 5
}
